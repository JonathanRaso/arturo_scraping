{
 "cells": [
  {
   "cell_type": "code",
   "execution_count": 1,
   "id": "5bf8f112",
   "metadata": {},
   "outputs": [],
   "source": [
    "import untitled1 as un"
   ]
  },
  {
   "cell_type": "code",
   "execution_count": 2,
   "id": "a6baa7ee",
   "metadata": {},
   "outputs": [],
   "source": [
    "test = un.imdb_fetch()"
   ]
  },
  {
   "cell_type": "code",
   "execution_count": 4,
   "id": "2dab4968",
   "metadata": {},
   "outputs": [
    {
     "name": "stdout",
     "output_type": "stream",
     "text": [
      "Directory  ./data2  already exists\n"
     ]
    }
   ],
   "source": [
    "test_2 = un.create_imdb_dataframe(test)"
   ]
  },
  {
   "cell_type": "code",
   "execution_count": null,
   "id": "bc8988d6",
   "metadata": {},
   "outputs": [],
   "source": [
    "df = pd.read_csv('data/top_250_imdb_eng_scraper_module.csv')"
   ]
  },
  {
   "cell_type": "code",
   "execution_count": null,
   "id": "7edd2f7d",
   "metadata": {},
   "outputs": [],
   "source": [
    "df"
   ]
  },
  {
   "cell_type": "code",
   "execution_count": null,
   "id": "b9bb100e",
   "metadata": {},
   "outputs": [],
   "source": [
    "ims."
   ]
  }
 ],
 "metadata": {
  "kernelspec": {
   "display_name": "Python 3",
   "language": "python",
   "name": "python3"
  },
  "language_info": {
   "codemirror_mode": {
    "name": "ipython",
    "version": 3
   },
   "file_extension": ".py",
   "mimetype": "text/x-python",
   "name": "python",
   "nbconvert_exporter": "python",
   "pygments_lexer": "ipython3",
   "version": "3.8.8"
  },
  "toc": {
   "base_numbering": 1,
   "nav_menu": {},
   "number_sections": true,
   "sideBar": true,
   "skip_h1_title": false,
   "title_cell": "Table of Contents",
   "title_sidebar": "Contents",
   "toc_cell": false,
   "toc_position": {},
   "toc_section_display": true,
   "toc_window_display": false
  },
  "varInspector": {
   "cols": {
    "lenName": 16,
    "lenType": 16,
    "lenVar": 40
   },
   "kernels_config": {
    "python": {
     "delete_cmd_postfix": "",
     "delete_cmd_prefix": "del ",
     "library": "var_list.py",
     "varRefreshCmd": "print(var_dic_list())"
    },
    "r": {
     "delete_cmd_postfix": ") ",
     "delete_cmd_prefix": "rm(",
     "library": "var_list.r",
     "varRefreshCmd": "cat(var_dic_list()) "
    }
   },
   "types_to_exclude": [
    "module",
    "function",
    "builtin_function_or_method",
    "instance",
    "_Feature"
   ],
   "window_display": false
  }
 },
 "nbformat": 4,
 "nbformat_minor": 5
}
