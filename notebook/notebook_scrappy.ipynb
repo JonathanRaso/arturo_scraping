{
 "cells": [
  {
   "cell_type": "markdown",
   "source": [
    "# Import Libraries"
   ],
   "metadata": {
    "collapsed": false,
    "pycharm": {
     "name": "#%% md\n"
    }
   }
  },
  {
   "cell_type": "code",
   "execution_count": 43,
   "outputs": [],
   "source": [
    "import pandas as pd\n",
    "from bs4 import BeautifulSoup as bs\n",
    "import requests as rq\n",
    "import pygal\n",
    "from rotten_tomatoes_scraper.rt_scraper import MovieScraper\n",
    "from IPython.display import display, HTML"
   ],
   "metadata": {
    "collapsed": false,
    "pycharm": {
     "name": "#%%\n"
    }
   }
  },
  {
   "cell_type": "markdown",
   "source": [
    "# Scraping"
   ],
   "metadata": {
    "collapsed": false,
    "pycharm": {
     "name": "#%% md\n"
    }
   }
  },
  {
   "cell_type": "markdown",
   "source": [
    "## IMDb top 250 films scraping"
   ],
   "metadata": {
    "collapsed": false,
    "pycharm": {
     "name": "#%% md\n"
    }
   }
  },
  {
   "cell_type": "code",
   "execution_count": 2,
   "outputs": [],
   "source": [
    "# fetching film pages' urls\n",
    "pages_urls = []\n",
    "\n",
    "page_start = 1\n",
    "while page_start <= 250:\n",
    "    url = f'https://www.imdb.com/search/title/?groups=top_250&sort=user_rating,desc&start={page_start}&ref_=adv_nxt'\n",
    "    pages_urls.append(url)\n",
    "    page_start = page_start + 50"
   ],
   "metadata": {
    "collapsed": false,
    "pycharm": {
     "name": "#%%\n"
    }
   }
  },
  {
   "cell_type": "code",
   "execution_count": 104,
   "outputs": [
    {
     "data": {
      "text/plain": "['https://www.imdb.com/search/title/?groups=top_250&sort=user_rating,desc&start=1&ref_=adv_nxt',\n 'https://www.imdb.com/search/title/?groups=top_250&sort=user_rating,desc&start=51&ref_=adv_nxt',\n 'https://www.imdb.com/search/title/?groups=top_250&sort=user_rating,desc&start=101&ref_=adv_nxt',\n 'https://www.imdb.com/search/title/?groups=top_250&sort=user_rating,desc&start=151&ref_=adv_nxt',\n 'https://www.imdb.com/search/title/?groups=top_250&sort=user_rating,desc&start=201&ref_=adv_nxt']"
     },
     "execution_count": 104,
     "metadata": {},
     "output_type": "execute_result"
    }
   ],
   "source": [
    "pages_urls"
   ],
   "metadata": {
    "collapsed": false,
    "pycharm": {
     "name": "#%%\n"
    }
   }
  },
  {
   "cell_type": "code",
   "execution_count": 3,
   "outputs": [],
   "source": [
    "# pulling html content from request response\n",
    "pages_content = []\n",
    "\n",
    "# fetch requests in US format\n",
    "headers = {\"Accept-Language\": \"en-US,en;q=0.5\"}\n",
    "\n",
    "for page in pages_urls:\n",
    "    response = rq.get(page, headers=headers)\n",
    "    if response.status_code != 200:\n",
    "        print(\"Error fetching page\")\n",
    "    else:\n",
    "        pages_content.append(response.content)"
   ],
   "metadata": {
    "collapsed": false,
    "pycharm": {
     "name": "#%%\n"
    }
   }
  },
  {
   "cell_type": "code",
   "execution_count": 41,
   "outputs": [],
   "source": [
    "# collect page html content tree\n",
    "film_infos = []\n",
    "\n",
    "for content in pages_content:\n",
    "    soup = bs(content, \"html.parser\")\n",
    "    for film_content in soup.find_all(\"div\", class_=\"lister-item mode-advanced\"):\n",
    "        film_infos.append(film_content)\n",
    "\n",
    "# list with fetched data\n",
    "film_data = []\n",
    "\n",
    "# fetch film infos from html hashes and lowercase all instances and replace empty spaces w/ underscores\n",
    "for info in film_infos:\n",
    "    title = (info.find(\"h3\", class_=\"lister-item-header\").findChildren()[1]).get_text(strip=True)\n",
    "    year = (info.h3.findChildren()[2]).get_text(strip=True)[1:5]\n",
    "    runtime = (info.find(\"p\", class_=\"text-muted\").findChildren()[2]).get_text(strip=True)[0:3]\n",
    "    genre = (info.find(\"p\", class_=\"text-muted\").find(\"span\", class_=\"genre\")).get_text(strip=True)\n",
    "    certificate = info.find(\"span\", class_ =\"certificate\").get_text(strip=True)\n",
    "    rating = (info.find(\"div\", class_=\"ratings-bar\").find(\"div\", class_='inline-block ratings-imdb-rating').findChildren()[1]).get_text(strip=True)\n",
    "    director = info.find_all('p', class_=\"\")[0].a.text.strip()\n",
    "\n",
    "    # define list to fill in all fetched data\n",
    "    film_data.append([title, year, runtime, genre, certificate, rating, director])\n",
    "\n",
    "    # define dataframe containing top 250 films data\n",
    "    top250_film = pd.DataFrame(film_data, columns = ['title', 'year', 'runtime', 'genre', 'certificate', 'rating', 'director'])\n"
   ],
   "metadata": {
    "collapsed": false,
    "pycharm": {
     "name": "#%%\n"
    }
   }
  },
  {
   "cell_type": "code",
   "execution_count": 42,
   "outputs": [
    {
     "data": {
      "text/plain": "                            title  year runtime                      genre  \\\n0        The Shawshank Redemption  1994     142                      Drama   \n1                   The Godfather  1972     175               Crime, Drama   \n2                 The Dark Knight  2008     152       Action, Crime, Drama   \n3          The Godfather: Part II  1974     202               Crime, Drama   \n4                    12 Angry Men  1957     96                Crime, Drama   \n..                            ...   ...     ...                        ...   \n245  Mr. Smith Goes to Washington  1939     129              Comedy, Drama   \n246            Gone with the Wind  1939     238    Drama, History, Romance   \n247         It Happened One Night  1934     105            Comedy, Romance   \n248    The Passion of Joan of Arc  1928     114  Biography, Drama, History   \n249                   The General  1926     67   Action, Adventure, Comedy   \n\n    certificate rating              director  \n0             R    9.3        Frank Darabont  \n1             R    9.2  Francis Ford Coppola  \n2         PG-13    9.0     Christopher Nolan  \n3             R    9.0  Francis Ford Coppola  \n4      Approved    9.0          Sidney Lumet  \n..          ...    ...                   ...  \n245      Passed    8.1           Frank Capra  \n246      Passed    8.1        Victor Fleming  \n247      Passed    8.1           Frank Capra  \n248      Passed    8.1   Carl Theodor Dreyer  \n249      Passed    8.1        Clyde Bruckman  \n\n[250 rows x 7 columns]",
      "text/html": "<div>\n<style scoped>\n    .dataframe tbody tr th:only-of-type {\n        vertical-align: middle;\n    }\n\n    .dataframe tbody tr th {\n        vertical-align: top;\n    }\n\n    .dataframe thead th {\n        text-align: right;\n    }\n</style>\n<table border=\"1\" class=\"dataframe\">\n  <thead>\n    <tr style=\"text-align: right;\">\n      <th></th>\n      <th>title</th>\n      <th>year</th>\n      <th>runtime</th>\n      <th>genre</th>\n      <th>certificate</th>\n      <th>rating</th>\n      <th>director</th>\n    </tr>\n  </thead>\n  <tbody>\n    <tr>\n      <th>0</th>\n      <td>The Shawshank Redemption</td>\n      <td>1994</td>\n      <td>142</td>\n      <td>Drama</td>\n      <td>R</td>\n      <td>9.3</td>\n      <td>Frank Darabont</td>\n    </tr>\n    <tr>\n      <th>1</th>\n      <td>The Godfather</td>\n      <td>1972</td>\n      <td>175</td>\n      <td>Crime, Drama</td>\n      <td>R</td>\n      <td>9.2</td>\n      <td>Francis Ford Coppola</td>\n    </tr>\n    <tr>\n      <th>2</th>\n      <td>The Dark Knight</td>\n      <td>2008</td>\n      <td>152</td>\n      <td>Action, Crime, Drama</td>\n      <td>PG-13</td>\n      <td>9.0</td>\n      <td>Christopher Nolan</td>\n    </tr>\n    <tr>\n      <th>3</th>\n      <td>The Godfather: Part II</td>\n      <td>1974</td>\n      <td>202</td>\n      <td>Crime, Drama</td>\n      <td>R</td>\n      <td>9.0</td>\n      <td>Francis Ford Coppola</td>\n    </tr>\n    <tr>\n      <th>4</th>\n      <td>12 Angry Men</td>\n      <td>1957</td>\n      <td>96</td>\n      <td>Crime, Drama</td>\n      <td>Approved</td>\n      <td>9.0</td>\n      <td>Sidney Lumet</td>\n    </tr>\n    <tr>\n      <th>...</th>\n      <td>...</td>\n      <td>...</td>\n      <td>...</td>\n      <td>...</td>\n      <td>...</td>\n      <td>...</td>\n      <td>...</td>\n    </tr>\n    <tr>\n      <th>245</th>\n      <td>Mr. Smith Goes to Washington</td>\n      <td>1939</td>\n      <td>129</td>\n      <td>Comedy, Drama</td>\n      <td>Passed</td>\n      <td>8.1</td>\n      <td>Frank Capra</td>\n    </tr>\n    <tr>\n      <th>246</th>\n      <td>Gone with the Wind</td>\n      <td>1939</td>\n      <td>238</td>\n      <td>Drama, History, Romance</td>\n      <td>Passed</td>\n      <td>8.1</td>\n      <td>Victor Fleming</td>\n    </tr>\n    <tr>\n      <th>247</th>\n      <td>It Happened One Night</td>\n      <td>1934</td>\n      <td>105</td>\n      <td>Comedy, Romance</td>\n      <td>Passed</td>\n      <td>8.1</td>\n      <td>Frank Capra</td>\n    </tr>\n    <tr>\n      <th>248</th>\n      <td>The Passion of Joan of Arc</td>\n      <td>1928</td>\n      <td>114</td>\n      <td>Biography, Drama, History</td>\n      <td>Passed</td>\n      <td>8.1</td>\n      <td>Carl Theodor Dreyer</td>\n    </tr>\n    <tr>\n      <th>249</th>\n      <td>The General</td>\n      <td>1926</td>\n      <td>67</td>\n      <td>Action, Adventure, Comedy</td>\n      <td>Passed</td>\n      <td>8.1</td>\n      <td>Clyde Bruckman</td>\n    </tr>\n  </tbody>\n</table>\n<p>250 rows × 7 columns</p>\n</div>"
     },
     "execution_count": 42,
     "metadata": {},
     "output_type": "execute_result"
    }
   ],
   "source": [
    "top250_film"
   ],
   "metadata": {
    "collapsed": false,
    "pycharm": {
     "name": "#%%\n"
    }
   }
  },
  {
   "cell_type": "markdown",
   "source": [
    "----------------------------------------"
   ],
   "metadata": {
    "collapsed": false,
    "pycharm": {
     "name": "#%% md\n"
    }
   }
  },
  {
   "cell_type": "markdown",
   "source": [
    "## Rotten Tomatoes tomatometer and audience score scraping"
   ],
   "metadata": {
    "collapsed": false,
    "pycharm": {
     "name": "#%% md\n"
    }
   }
  },
  {
   "cell_type": "code",
   "execution_count": 40,
   "outputs": [
    {
     "data": {
      "text/plain": "                            title  year runtime                      genre  \\\n0            shawshank_redemption  1994     142                      Drama   \n1                       godfather  1972     175               Crime, Drama   \n2                     dark_knight  2008     152       Action, Crime, Drama   \n3              godfather:_part_ii  1974     202               Crime, Drama   \n4                    12_angry_men  1957     96                Crime, Drama   \n..                            ...   ...     ...                        ...   \n245  mr._smith_goes_to_washington  1939     129              Comedy, Drama   \n246                gone_with_wind  1939     238    Drama, History, Romance   \n247         it_happened_one_night  1934     105            Comedy, Romance   \n248        passion_of_joan_of_arc  1928     114  Biography, Drama, History   \n249                       general  1926     67   Action, Adventure, Comedy   \n\n    certificate rating              director  \n0             R    9.3        Frank Darabont  \n1             R    9.2  Francis Ford Coppola  \n2         PG-13    9.0     Christopher Nolan  \n3             R    9.0  Francis Ford Coppola  \n4      Approved    9.0          Sidney Lumet  \n..          ...    ...                   ...  \n245      Passed    8.1           Frank Capra  \n246      Passed    8.1        Victor Fleming  \n247      Passed    8.1           Frank Capra  \n248      Passed    8.1   Carl Theodor Dreyer  \n249      Passed    8.1        Clyde Bruckman  \n\n[250 rows x 7 columns]",
      "text/html": "<div>\n<style scoped>\n    .dataframe tbody tr th:only-of-type {\n        vertical-align: middle;\n    }\n\n    .dataframe tbody tr th {\n        vertical-align: top;\n    }\n\n    .dataframe thead th {\n        text-align: right;\n    }\n</style>\n<table border=\"1\" class=\"dataframe\">\n  <thead>\n    <tr style=\"text-align: right;\">\n      <th></th>\n      <th>title</th>\n      <th>year</th>\n      <th>runtime</th>\n      <th>genre</th>\n      <th>certificate</th>\n      <th>rating</th>\n      <th>director</th>\n    </tr>\n  </thead>\n  <tbody>\n    <tr>\n      <th>0</th>\n      <td>shawshank_redemption</td>\n      <td>1994</td>\n      <td>142</td>\n      <td>Drama</td>\n      <td>R</td>\n      <td>9.3</td>\n      <td>Frank Darabont</td>\n    </tr>\n    <tr>\n      <th>1</th>\n      <td>godfather</td>\n      <td>1972</td>\n      <td>175</td>\n      <td>Crime, Drama</td>\n      <td>R</td>\n      <td>9.2</td>\n      <td>Francis Ford Coppola</td>\n    </tr>\n    <tr>\n      <th>2</th>\n      <td>dark_knight</td>\n      <td>2008</td>\n      <td>152</td>\n      <td>Action, Crime, Drama</td>\n      <td>PG-13</td>\n      <td>9.0</td>\n      <td>Christopher Nolan</td>\n    </tr>\n    <tr>\n      <th>3</th>\n      <td>godfather:_part_ii</td>\n      <td>1974</td>\n      <td>202</td>\n      <td>Crime, Drama</td>\n      <td>R</td>\n      <td>9.0</td>\n      <td>Francis Ford Coppola</td>\n    </tr>\n    <tr>\n      <th>4</th>\n      <td>12_angry_men</td>\n      <td>1957</td>\n      <td>96</td>\n      <td>Crime, Drama</td>\n      <td>Approved</td>\n      <td>9.0</td>\n      <td>Sidney Lumet</td>\n    </tr>\n    <tr>\n      <th>...</th>\n      <td>...</td>\n      <td>...</td>\n      <td>...</td>\n      <td>...</td>\n      <td>...</td>\n      <td>...</td>\n      <td>...</td>\n    </tr>\n    <tr>\n      <th>245</th>\n      <td>mr._smith_goes_to_washington</td>\n      <td>1939</td>\n      <td>129</td>\n      <td>Comedy, Drama</td>\n      <td>Passed</td>\n      <td>8.1</td>\n      <td>Frank Capra</td>\n    </tr>\n    <tr>\n      <th>246</th>\n      <td>gone_with_wind</td>\n      <td>1939</td>\n      <td>238</td>\n      <td>Drama, History, Romance</td>\n      <td>Passed</td>\n      <td>8.1</td>\n      <td>Victor Fleming</td>\n    </tr>\n    <tr>\n      <th>247</th>\n      <td>it_happened_one_night</td>\n      <td>1934</td>\n      <td>105</td>\n      <td>Comedy, Romance</td>\n      <td>Passed</td>\n      <td>8.1</td>\n      <td>Frank Capra</td>\n    </tr>\n    <tr>\n      <th>248</th>\n      <td>passion_of_joan_of_arc</td>\n      <td>1928</td>\n      <td>114</td>\n      <td>Biography, Drama, History</td>\n      <td>Passed</td>\n      <td>8.1</td>\n      <td>Carl Theodor Dreyer</td>\n    </tr>\n    <tr>\n      <th>249</th>\n      <td>general</td>\n      <td>1926</td>\n      <td>67</td>\n      <td>Action, Adventure, Comedy</td>\n      <td>Passed</td>\n      <td>8.1</td>\n      <td>Clyde Bruckman</td>\n    </tr>\n  </tbody>\n</table>\n<p>250 rows × 7 columns</p>\n</div>"
     },
     "execution_count": 40,
     "metadata": {},
     "output_type": "execute_result"
    }
   ],
   "source": [
    "top250_film"
   ],
   "metadata": {
    "collapsed": false,
    "pycharm": {
     "name": "#%%\n"
    }
   }
  },
  {
   "cell_type": "code",
   "execution_count": null,
   "outputs": [],
   "source": [
    "for title in top250_film['title']:\n",
    "    movie_scraper = MovieScraper(movie_title=title)\n",
    "    if movie_scraper.extract_metadata() != 404:\n",
    "        print(movie_scraper.metadata)\n",
    "    else:\n",
    "        print('No film found')"
   ],
   "metadata": {
    "collapsed": false,
    "pycharm": {
     "name": "#%%\n"
    }
   }
  },
  {
   "cell_type": "code",
   "execution_count": null,
   "outputs": [],
   "source": [],
   "metadata": {
    "collapsed": false,
    "pycharm": {
     "name": "#%%\n"
    }
   }
  },
  {
   "cell_type": "code",
   "execution_count": null,
   "outputs": [],
   "source": [],
   "metadata": {
    "collapsed": false,
    "pycharm": {
     "name": "#%%\n"
    }
   }
  },
  {
   "cell_type": "code",
   "execution_count": null,
   "outputs": [],
   "source": [],
   "metadata": {
    "collapsed": false,
    "pycharm": {
     "name": "#%%\n"
    }
   }
  },
  {
   "cell_type": "code",
   "execution_count": null,
   "outputs": [],
   "source": [],
   "metadata": {
    "collapsed": false,
    "pycharm": {
     "name": "#%%\n"
    }
   }
  },
  {
   "cell_type": "code",
   "execution_count": null,
   "outputs": [],
   "source": [],
   "metadata": {
    "collapsed": false,
    "pycharm": {
     "name": "#%%\n"
    }
   }
  },
  {
   "cell_type": "code",
   "execution_count": null,
   "outputs": [],
   "source": [],
   "metadata": {
    "collapsed": false,
    "pycharm": {
     "name": "#%%\n"
    }
   }
  },
  {
   "cell_type": "code",
   "execution_count": null,
   "outputs": [],
   "source": [],
   "metadata": {
    "collapsed": false,
    "pycharm": {
     "name": "#%%\n"
    }
   }
  },
  {
   "cell_type": "code",
   "execution_count": null,
   "outputs": [],
   "source": [],
   "metadata": {
    "collapsed": false,
    "pycharm": {
     "name": "#%%\n"
    }
   }
  }
 ],
 "metadata": {
  "kernelspec": {
   "display_name": "Python 3",
   "language": "python",
   "name": "python3"
  },
  "language_info": {
   "codemirror_mode": {
    "name": "ipython",
    "version": 2
   },
   "file_extension": ".py",
   "mimetype": "text/x-python",
   "name": "python",
   "nbconvert_exporter": "python",
   "pygments_lexer": "ipython2",
   "version": "2.7.6"
  }
 },
 "nbformat": 4,
 "nbformat_minor": 0
}