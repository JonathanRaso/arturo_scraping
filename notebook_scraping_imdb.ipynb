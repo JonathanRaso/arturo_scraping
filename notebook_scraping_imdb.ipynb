{
 "cells": [
  {
   "cell_type": "markdown",
   "id": "20921213",
   "metadata": {},
   "source": [
    "### Scraper.py Instructions"
   ]
  },
  {
   "cell_type": "markdown",
   "id": "54016d5b",
   "metadata": {},
   "source": [
    "This notebook will guide you if you want to have a csv file with data about the top 250 movies. You can go to 4 and get only a dataframe with imdb data, or execute every steps in order to get 2 csv (one with only imdb data, and one with imdb data with rottentomatoes scores added)."
   ]
  },
  {
   "cell_type": "markdown",
   "id": "6db91df9",
   "metadata": {
    "heading_collapsed": true
   },
   "source": [
    "#### STEP 1 : import scraper.py #"
   ]
  },
  {
   "cell_type": "code",
   "execution_count": null,
   "id": "91c025b8",
   "metadata": {
    "hidden": true
   },
   "outputs": [],
   "source": [
    "import scraper as scp"
   ]
  },
  {
   "cell_type": "markdown",
   "id": "57e468b0",
   "metadata": {
    "heading_collapsed": true
   },
   "source": [
    "#### STEP 2 : use imdb_fetch() function in order to fetch data about top 250 movies on IMDB and store them in imdb_data variable"
   ]
  },
  {
   "cell_type": "code",
   "execution_count": null,
   "id": "b68ba6d3",
   "metadata": {
    "hidden": true
   },
   "outputs": [],
   "source": [
    "imdb_data = scp.imdb_fetch()"
   ]
  },
  {
   "cell_type": "markdown",
   "id": "70a0ee28",
   "metadata": {
    "heading_collapsed": true
   },
   "source": [
    "#### STEP 3 : use create_imdb_dataframe() function in order to create a new csv file with data about top 250 movies (will also create a folder /data in your current directory if it doesn't exist yet)"
   ]
  },
  {
   "cell_type": "code",
   "execution_count": null,
   "id": "2c67fac2",
   "metadata": {
    "hidden": true
   },
   "outputs": [],
   "source": [
    "imdb_df = scp.create_imdb_dataframe(imdb_data)"
   ]
  },
  {
   "cell_type": "markdown",
   "id": "43544699",
   "metadata": {
    "heading_collapsed": true
   },
   "source": [
    "#### STEP 4 (optional) : check the dataframe created"
   ]
  },
  {
   "cell_type": "code",
   "execution_count": null,
   "id": "348b0e85",
   "metadata": {
    "hidden": true
   },
   "outputs": [],
   "source": [
    "imdb_df"
   ]
  },
  {
   "cell_type": "markdown",
   "id": "c13b4437",
   "metadata": {
    "heading_collapsed": true
   },
   "source": [
    "#### STEP 5 : use rotten_scores_fetch() function in order to fetch tomatoscore and audience score of the movies, from rottentomatoes (Caution : this step will take between 5 and 10 min, so you need to wait before executing cells below this one)"
   ]
  },
  {
   "cell_type": "code",
   "execution_count": null,
   "id": "eddba8b1",
   "metadata": {
    "hidden": true
   },
   "outputs": [],
   "source": [
    "rotten_data = scp.rotten_scores_fetch(imdb_df)"
   ]
  },
  {
   "cell_type": "markdown",
   "id": "8efeec61",
   "metadata": {
    "heading_collapsed": true
   },
   "source": [
    "#### STEP 6 (optional) : check the list created"
   ]
  },
  {
   "cell_type": "code",
   "execution_count": null,
   "id": "9ef89245",
   "metadata": {
    "hidden": true
   },
   "outputs": [],
   "source": [
    "rotten_data"
   ]
  },
  {
   "cell_type": "markdown",
   "id": "1b90ccbf",
   "metadata": {
    "heading_collapsed": true
   },
   "source": [
    "#### STEP 7 : use create_rotten_df() function in order to create a new csv file with rottentomatoes scores added to the initial dataframe (will also create a folder /data in your current directory if it doesn't exist yet)"
   ]
  },
  {
   "cell_type": "code",
   "execution_count": null,
   "id": "dda60d64",
   "metadata": {
    "hidden": true
   },
   "outputs": [],
   "source": [
    "final_df = scp.create_rotten_df(rotten_data, imdb_df)"
   ]
  },
  {
   "cell_type": "markdown",
   "id": "e2ff5f3c",
   "metadata": {
    "heading_collapsed": true
   },
   "source": [
    "#### STEP 7 (optional) : check the final dataframe created"
   ]
  },
  {
   "cell_type": "code",
   "execution_count": null,
   "id": "863bf5dc",
   "metadata": {
    "hidden": true
   },
   "outputs": [],
   "source": [
    "final_df"
   ]
  }
 ],
 "metadata": {
  "kernelspec": {
   "display_name": "Python 3",
   "language": "python",
   "name": "python3"
  },
  "language_info": {
   "codemirror_mode": {
    "name": "ipython",
    "version": 3
   },
   "file_extension": ".py",
   "mimetype": "text/x-python",
   "name": "python",
   "nbconvert_exporter": "python",
   "pygments_lexer": "ipython3",
   "version": "3.8.8"
  },
  "toc": {
   "base_numbering": 1,
   "nav_menu": {},
   "number_sections": true,
   "sideBar": true,
   "skip_h1_title": false,
   "title_cell": "Table of Contents",
   "title_sidebar": "Contents",
   "toc_cell": false,
   "toc_position": {},
   "toc_section_display": true,
   "toc_window_display": false
  },
  "varInspector": {
   "cols": {
    "lenName": 16,
    "lenType": 16,
    "lenVar": 40
   },
   "kernels_config": {
    "python": {
     "delete_cmd_postfix": "",
     "delete_cmd_prefix": "del ",
     "library": "var_list.py",
     "varRefreshCmd": "print(var_dic_list())"
    },
    "r": {
     "delete_cmd_postfix": ") ",
     "delete_cmd_prefix": "rm(",
     "library": "var_list.r",
     "varRefreshCmd": "cat(var_dic_list()) "
    }
   },
   "types_to_exclude": [
    "module",
    "function",
    "builtin_function_or_method",
    "instance",
    "_Feature"
   ],
   "window_display": false
  }
 },
 "nbformat": 4,
 "nbformat_minor": 5
}
