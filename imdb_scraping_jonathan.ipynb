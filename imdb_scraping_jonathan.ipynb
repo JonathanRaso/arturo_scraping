{
 "cells": [
  {
   "cell_type": "code",
   "execution_count": 1,
   "id": "585d08bc",
   "metadata": {},
   "outputs": [
    {
     "name": "stdout",
     "output_type": "stream",
     "text": [
      "Requirement already satisfied: beautifulsoup4 in c:\\users\\simplon.co\\anaconda3\\lib\\site-packages (4.9.3)\n",
      "Requirement already satisfied: soupsieve>1.2 in c:\\users\\simplon.co\\anaconda3\\lib\\site-packages (from beautifulsoup4) (2.2.1)\n"
     ]
    }
   ],
   "source": [
    "# Install Beautifulsoup\n",
    "# !pip install beautifulsoup4"
   ]
  },
  {
   "cell_type": "code",
   "execution_count": 97,
   "id": "eef77fcf",
   "metadata": {},
   "outputs": [],
   "source": [
    "# Import libraries\n",
    "from bs4 import BeautifulSoup\n",
    "import requests\n",
    "\n",
    "import pandas as pd"
   ]
  },
  {
   "cell_type": "code",
   "execution_count": 108,
   "id": "431ce3fb",
   "metadata": {},
   "outputs": [],
   "source": [
    "# Get data (html) from the page we want to scrap\n",
    "# data = requests.get('https://www.imdb.com/search/title/?groups=top_250&sort=user_rating')\n",
    "\n",
    "movies_data = []\n",
    "\n",
    "urls = ['https://www.imdb.com/search/title/?groups=top_250&sort=user_rating', \n",
    "        'https://www.imdb.com/search/title/?groups=top_250&sort=user_rating,desc&start=51',\n",
    "        'https://www.imdb.com/search/title/?groups=top_250&sort=user_rating,desc&start=101',\n",
    "        'https://www.imdb.com/search/title/?groups=top_250&sort=user_rating,desc&start=151',\n",
    "        'https://www.imdb.com/search/title/?groups=top_250&sort=user_rating,desc&start=201']"
   ]
  },
  {
   "cell_type": "code",
   "execution_count": 110,
   "id": "a750da00",
   "metadata": {},
   "outputs": [],
   "source": [
    "for url in urls:\n",
    "    data = requests.get(url)\n",
    "    \n",
    "    soup =  BeautifulSoup(data.text, 'html.parser')\n",
    "    \n",
    "    for div in soup.find_all('div', { 'class' : 'lister-item-content' }):\n",
    "        title = div.find('a')\n",
    "        title_text = title.text\n",
    "        year = div.find(\"span\", class_=\"lister-item-year\").text\n",
    "        runtime = div.find('span', {'class':'runtime'}).text\n",
    "        genre = div.find('span', {'class':'genre'}).text.strip()\n",
    "\n",
    "        data_list = [title_text, year, runtime, genre]\n",
    "        movies_data.append(data_list)"
   ]
  },
  {
   "cell_type": "code",
   "execution_count": 126,
   "id": "398fb96b",
   "metadata": {},
   "outputs": [
    {
     "data": {
      "text/html": [
       "<div>\n",
       "<style scoped>\n",
       "    .dataframe tbody tr th:only-of-type {\n",
       "        vertical-align: middle;\n",
       "    }\n",
       "\n",
       "    .dataframe tbody tr th {\n",
       "        vertical-align: top;\n",
       "    }\n",
       "\n",
       "    .dataframe thead th {\n",
       "        text-align: right;\n",
       "    }\n",
       "</style>\n",
       "<table border=\"1\" class=\"dataframe\">\n",
       "  <thead>\n",
       "    <tr style=\"text-align: right;\">\n",
       "      <th></th>\n",
       "      <th>title</th>\n",
       "      <th>year_of_release</th>\n",
       "      <th>duration_in_minutes</th>\n",
       "      <th>genre</th>\n",
       "    </tr>\n",
       "  </thead>\n",
       "  <tbody>\n",
       "    <tr>\n",
       "      <th>0</th>\n",
       "      <td>Les Évadés</td>\n",
       "      <td>(1994)</td>\n",
       "      <td>142 min</td>\n",
       "      <td>Drama</td>\n",
       "    </tr>\n",
       "    <tr>\n",
       "      <th>1</th>\n",
       "      <td>Le Parrain</td>\n",
       "      <td>(1972)</td>\n",
       "      <td>175 min</td>\n",
       "      <td>Crime, Drama</td>\n",
       "    </tr>\n",
       "    <tr>\n",
       "      <th>2</th>\n",
       "      <td>The Dark Knight : Le Chevalier noir</td>\n",
       "      <td>(2008)</td>\n",
       "      <td>152 min</td>\n",
       "      <td>Action, Crime, Drama</td>\n",
       "    </tr>\n",
       "    <tr>\n",
       "      <th>3</th>\n",
       "      <td>Le Parrain, 2ᵉ partie</td>\n",
       "      <td>(1974)</td>\n",
       "      <td>202 min</td>\n",
       "      <td>Crime, Drama</td>\n",
       "    </tr>\n",
       "    <tr>\n",
       "      <th>4</th>\n",
       "      <td>12 Hommes en colère</td>\n",
       "      <td>(1957)</td>\n",
       "      <td>96 min</td>\n",
       "      <td>Crime, Drama</td>\n",
       "    </tr>\n",
       "    <tr>\n",
       "      <th>...</th>\n",
       "      <td>...</td>\n",
       "      <td>...</td>\n",
       "      <td>...</td>\n",
       "      <td>...</td>\n",
       "    </tr>\n",
       "    <tr>\n",
       "      <th>245</th>\n",
       "      <td>Mr. Smith au sénat</td>\n",
       "      <td>(1939)</td>\n",
       "      <td>129 min</td>\n",
       "      <td>Comedy, Drama</td>\n",
       "    </tr>\n",
       "    <tr>\n",
       "      <th>246</th>\n",
       "      <td>Autant en emporte le vent</td>\n",
       "      <td>(1939)</td>\n",
       "      <td>238 min</td>\n",
       "      <td>Drama, History, Romance</td>\n",
       "    </tr>\n",
       "    <tr>\n",
       "      <th>247</th>\n",
       "      <td>New York - Miami</td>\n",
       "      <td>(1934)</td>\n",
       "      <td>105 min</td>\n",
       "      <td>Comedy, Romance</td>\n",
       "    </tr>\n",
       "    <tr>\n",
       "      <th>248</th>\n",
       "      <td>La passion de Jeanne d'Arc</td>\n",
       "      <td>(1928)</td>\n",
       "      <td>110 min</td>\n",
       "      <td>Biography, Drama, History</td>\n",
       "    </tr>\n",
       "    <tr>\n",
       "      <th>249</th>\n",
       "      <td>Le mécano de la Générale</td>\n",
       "      <td>(1926)</td>\n",
       "      <td>67 min</td>\n",
       "      <td>Action, Adventure, Comedy</td>\n",
       "    </tr>\n",
       "  </tbody>\n",
       "</table>\n",
       "<p>250 rows × 4 columns</p>\n",
       "</div>"
      ],
      "text/plain": [
       "                                   title year_of_release duration_in_minutes  \\\n",
       "0                             Les Évadés          (1994)             142 min   \n",
       "1                             Le Parrain          (1972)             175 min   \n",
       "2    The Dark Knight : Le Chevalier noir          (2008)             152 min   \n",
       "3                  Le Parrain, 2ᵉ partie          (1974)             202 min   \n",
       "4                    12 Hommes en colère          (1957)              96 min   \n",
       "..                                   ...             ...                 ...   \n",
       "245                   Mr. Smith au sénat          (1939)             129 min   \n",
       "246            Autant en emporte le vent          (1939)             238 min   \n",
       "247                     New York - Miami          (1934)             105 min   \n",
       "248           La passion de Jeanne d'Arc          (1928)             110 min   \n",
       "249             Le mécano de la Générale          (1926)              67 min   \n",
       "\n",
       "                         genre  \n",
       "0                        Drama  \n",
       "1                 Crime, Drama  \n",
       "2         Action, Crime, Drama  \n",
       "3                 Crime, Drama  \n",
       "4                 Crime, Drama  \n",
       "..                         ...  \n",
       "245              Comedy, Drama  \n",
       "246    Drama, History, Romance  \n",
       "247            Comedy, Romance  \n",
       "248  Biography, Drama, History  \n",
       "249  Action, Adventure, Comedy  \n",
       "\n",
       "[250 rows x 4 columns]"
      ]
     },
     "execution_count": 126,
     "metadata": {},
     "output_type": "execute_result"
    }
   ],
   "source": [
    "movies_df = pd.DataFrame (movies_data, columns = ['title', 'year_of_release', 'duration_in_minutes', 'genre'])\n",
    "movies_df"
   ]
  },
  {
   "cell_type": "code",
   "execution_count": 129,
   "id": "ea65c295",
   "metadata": {},
   "outputs": [
    {
     "data": {
      "text/plain": [
       "count      250\n",
       "unique      87\n",
       "top       1995\n",
       "freq         8\n",
       "Name: year_of_release, dtype: object"
      ]
     },
     "execution_count": 129,
     "metadata": {},
     "output_type": "execute_result"
    }
   ],
   "source": [
    "# movies_df[\"duration_in_minutes\"] = movies_df[\"duration_in_minutes\"].str[:3].astype(int)\n",
    "# movies_df[\"year_of_release\"] = movies_df[\"year_of_release\"].str[1:5]\n",
    "movies_df['year_of_release'].describe()"
   ]
  },
  {
   "cell_type": "code",
   "execution_count": 57,
   "id": "070297eb",
   "metadata": {},
   "outputs": [],
   "source": [
    "# Load data into bs4\n",
    "# soup = BeautifulSoup(data.text, 'html.parser')"
   ]
  },
  {
   "cell_type": "code",
   "execution_count": 94,
   "id": "6a40bb06",
   "metadata": {},
   "outputs": [],
   "source": [
    "# movies_data = []\n",
    "# # div = soup.find_all('div', {'class':'lister-item-content'})\n",
    "# for h3 in soup.find_all('h3', { 'class' : 'lister-item-header' }):\n",
    "#     title = h3.find('a')\n",
    "#     title_text = title.text\n",
    "#     year = h3.find(\"span\", class_=\"lister-item-year\")\n",
    "#     year_text = year.text\n",
    "    \n",
    "#     print(title_text)\n",
    "#     print(year_text)\n",
    "\n",
    "# movies_data = []\n",
    "# # div = soup.find_all('div', {'class':'lister-item-content'})\n",
    "# for div in soup.find_all('div', { 'class' : 'lister-item-content' }):\n",
    "#     title = div.find('a')\n",
    "#     title_text = title.text\n",
    "#     year = div.find(\"span\", class_=\"lister-item-year\").text\n",
    "#     runtime = div.find('span', {'class':'runtime'}).text\n",
    "#     genre = div.find('span', {'class':'genre'}).text.strip()\n",
    "    \n",
    "#     data_list = [title_text, year, runtime, genre]\n",
    "#     movies_data.append(data_list)\n",
    "# #     movies_data.append(title,year,runtime,genre)\n",
    "    \n",
    "# print(movies_data)    \n",
    "    \n",
    "#     print(title_text)\n",
    "#     print(year_text)\n",
    "#     print(runtime)\n",
    "#     print(genre)\n",
    "#     print(data_list)\n",
    "#     print(movies_data)"
   ]
  },
  {
   "cell_type": "code",
   "execution_count": 112,
   "id": "d5322a40",
   "metadata": {},
   "outputs": [],
   "source": [
    "# movies_df = pd.DataFrame (movies_data, columns = ['title', 'year_of_release', 'runtime', 'genre'])\n",
    "# movies_df"
   ]
  },
  {
   "cell_type": "code",
   "execution_count": null,
   "id": "274c128d",
   "metadata": {},
   "outputs": [],
   "source": []
  },
  {
   "cell_type": "code",
   "execution_count": 102,
   "id": "ce8644ce",
   "metadata": {},
   "outputs": [],
   "source": [
    "movies_df.to_csv('data/top_250_imdb.csv', encoding='utf-8', index=False)"
   ]
  }
 ],
 "metadata": {
  "kernelspec": {
   "display_name": "Python 3",
   "language": "python",
   "name": "python3"
  },
  "language_info": {
   "codemirror_mode": {
    "name": "ipython",
    "version": 3
   },
   "file_extension": ".py",
   "mimetype": "text/x-python",
   "name": "python",
   "nbconvert_exporter": "python",
   "pygments_lexer": "ipython3",
   "version": "3.8.8"
  },
  "toc": {
   "base_numbering": 1,
   "nav_menu": {},
   "number_sections": true,
   "sideBar": true,
   "skip_h1_title": false,
   "title_cell": "Table of Contents",
   "title_sidebar": "Contents",
   "toc_cell": false,
   "toc_position": {},
   "toc_section_display": true,
   "toc_window_display": false
  },
  "varInspector": {
   "cols": {
    "lenName": 16,
    "lenType": 16,
    "lenVar": 40
   },
   "kernels_config": {
    "python": {
     "delete_cmd_postfix": "",
     "delete_cmd_prefix": "del ",
     "library": "var_list.py",
     "varRefreshCmd": "print(var_dic_list())"
    },
    "r": {
     "delete_cmd_postfix": ") ",
     "delete_cmd_prefix": "rm(",
     "library": "var_list.r",
     "varRefreshCmd": "cat(var_dic_list()) "
    }
   },
   "types_to_exclude": [
    "module",
    "function",
    "builtin_function_or_method",
    "instance",
    "_Feature"
   ],
   "window_display": false
  }
 },
 "nbformat": 4,
 "nbformat_minor": 5
}
